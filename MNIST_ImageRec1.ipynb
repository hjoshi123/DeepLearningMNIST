{
 "cells": [
  {
   "cell_type": "code",
   "execution_count": 1,
   "metadata": {},
   "outputs": [
    {
     "name": "stdout",
     "output_type": "stream",
     "text": [
      "[1 2 3 4 5]\n"
     ]
    }
   ],
   "source": [
    "import numpy as np\n",
    "\n",
    "a = np.array([1,2,3,4,5])\n",
    "\n",
    "print(a)\n"
   ]
  },
  {
   "cell_type": "code",
   "execution_count": 6,
   "metadata": {},
   "outputs": [
    {
     "name": "stdout",
     "output_type": "stream",
     "text": [
      "Extracting MNIST_data/train-images-idx3-ubyte.gz\n",
      "Extracting MNIST_data/train-labels-idx1-ubyte.gz\n",
      "Extracting MNIST_data/t10k-images-idx3-ubyte.gz\n",
      "Extracting MNIST_data/t10k-labels-idx1-ubyte.gz\n",
      "WARNING:tensorflow:From <ipython-input-6-768896bff8b5>:15: initialize_all_variables (from tensorflow.python.ops.variables) is deprecated and will be removed after 2017-03-02.\n",
      "Instructions for updating:\n",
      "Use `tf.global_variables_initializer` instead.\n"
     ]
    },
    {
     "data": {
      "image/png": "[encoded data removed]",
      "text/plain": [
       "<matplotlib.figure.Figure at 0x128af17f0>"
      ]
     },
     "metadata": {},
     "output_type": "display_data"
    },
    {
     "name": "stdout",
     "output_type": "stream",
     "text": [
      "NN predicted 7\n"
     ]
    }
   ],
   "source": [
    "import tensorflow as tf\n",
    "from tensorflow.examples.tutorials.mnist import input_data\n",
    "from matplotlib import pyplot as plt\n",
    "from random import randint\n",
    "\n",
    "mnist = input_data.read_data_sets(\"MNIST_data/\", one_hot=True)\n",
    "num = randint(0, mnist.test.images.shape[0])\n",
    "img = mnist.test.images[num]\n",
    "#tf.placeholder(tf.float32,[]) tf.float32 is the 32 bit storage fo Cr computation graph\n",
    "#[] is for the dimensions of input In this case since its images. No of images is unknown this None as first then the RGB values \n",
    "#for color images. Since its grayscale therefore 28*28*1=784 works.\n",
    "X = tf.placeholder(tf.float32,[None, 784])\n",
    "W = tf.Variable(tf.zeros([784,10]))\n",
    "b = tf.Variable(tf.zeros([10]))\n",
    "init = tf.initialize_all_variables()\n",
    "\n",
    "#Building the model for the given problem\n",
    "Y = tf.nn.softmax(tf.matmul(X, W) + b)\n",
    "\n",
    "#Correct values i.e placeholders of training set\n",
    "Y_ = tf.placeholder(tf.float32,[None,10])\n",
    "\n",
    "#Loss function\n",
    "cross_entropy = -tf.reduce_sum(Y_ * tf.log(Y))\n",
    "\n",
    "#Success Metrics\n",
    "is_correct = tf.equal(tf.argmax(Y,1),tf.argmax(Y_,1))\n",
    "accuracy = tf.reduce_mean(tf.cast(is_correct,tf.float32))\n",
    "\n",
    "#0.003 is the learning rate alpha\n",
    "optimizer = tf.train.GradientDescentOptimizer(0.003)\n",
    "train_step = optimizer.minimize(cross_entropy)\n",
    "\n",
    "sess = tf.InteractiveSession()\n",
    "sess.run(init)\n",
    "\n",
    "for i in range(1000):\n",
    "    batch_X,batch_Y = mnist.train.next_batch(100)\n",
    "    train_data = {X: batch_X, Y_: batch_Y}\n",
    "    sess.run(train_step, feed_dict=train_data)\n",
    "    a,c = sess.run([accuracy, cross_entropy], feed_dict=train_data)\n",
    "    \n",
    "    #print(a)\n",
    "    #print(c)\n",
    "    \n",
    "    test_data = {X: mnist.test.images, Y_: mnist.test.labels}\n",
    "    a,c = sess.run([accuracy, cross_entropy], feed_dict=test_data)\n",
    "    #print(a)\n",
    "    #print(c)   \n",
    "\n",
    "classification = sess.run(tf.argmax(Y, 1), feed_dict={X: [img]})\n",
    "plt.imshow(img.reshape(28, 28), cmap=plt.cm.binary)\n",
    "plt.show()\n",
    "print('NN predicted', classification[0])\n",
    "#prediction=tf.argmax(Y,1)\n",
    "#print(\"predictions\", prediction.eval(feed_dict={X: mnist.test.images}, session=sess))"
   ]
  },
  {
   "cell_type": "code",
   "execution_count": null,
   "metadata": {
    "collapsed": true
   },
   "outputs": [],
   "source": []
  },
  {
   "cell_type": "code",
   "execution_count": null,
   "metadata": {
    "collapsed": true
   },
   "outputs": [],
   "source": []
  }
 ],
 "metadata": {
  "kernelspec": {
   "display_name": "Python 3",
   "language": "python",
   "name": "python3"
  },
  "language_info": {
   "codemirror_mode": {
    "name": "ipython",
    "version": 3
   },
   "file_extension": ".py",
   "mimetype": "text/x-python",
   "name": "python",
   "nbconvert_exporter": "python",
   "pygments_lexer": "ipython3",
   "version": "3.6.1"
  }
 },
 "nbformat": 4,
 "nbformat_minor": 2
}
